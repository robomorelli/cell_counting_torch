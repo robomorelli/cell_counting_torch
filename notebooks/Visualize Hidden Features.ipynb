{
 "cells": [
  {
   "cell_type": "markdown",
   "metadata": {},
   "source": [
    "# Introduction\n",
    "The goal here is to visually inspect the hidden features computed by the model at each intermediate layer."
   ]
  },
  {
   "cell_type": "markdown",
   "metadata": {},
   "source": [
    "### Imports\n",
    "Import libraries and write settings here."
   ]
  },
  {
   "cell_type": "markdown",
   "metadata": {},
   "source": [
    "## General packages"
   ]
  },
  {
   "cell_type": "code",
   "execution_count": null,
   "metadata": {
    "ExecuteTime": {
     "end_time": "2021-11-25T12:13:33.593814Z",
     "start_time": "2021-11-25T12:13:32.402872Z"
    },
    "scrolled": true
   },
   "outputs": [],
   "source": [
    "import tensorflow as tf\n",
    "from keras.preprocessing.image import ImageDataGenerator\n",
    "from keras.models import load_model, Model, Sequential\n",
    "from keras.layers.pooling import MaxPooling2D\n",
    "from keras.layers.merge import concatenate\n",
    "from keras.layers.core import Dropout, Lambda\n",
    "from keras.layers.convolutional import Conv2D, Conv2DTranspose\n",
    "from keras.layers import Input, Dropout, Activation, Conv2D, MaxPooling2D, UpSampling2D, Lambda, BatchNormalization\n",
    "from keras.callbacks import Callback, EarlyStopping, ReduceLROnPlateau, ModelCheckpoint\n",
    "from keras import callbacks, initializers, layers, models, optimizers\n",
    "from keras import backend as K\n",
    "\n",
    "from pathlib import Path\n",
    "import numpy as np\n",
    "import cv2\n",
    "import matplotlib.pyplot as plt"
   ]
  },
  {
   "cell_type": "markdown",
   "metadata": {},
   "source": [
    "## Custom modules "
   ]
  },
  {
   "cell_type": "code",
   "execution_count": null,
   "metadata": {
    "ExecuteTime": {
     "end_time": "2021-11-25T12:13:33.825496Z",
     "start_time": "2021-11-25T12:13:33.595177Z"
    }
   },
   "outputs": [],
   "source": [
    "import sys\n",
    "%load_ext autoreload\n",
    "\n",
    "%autoreload 2\n",
    "\n",
    "repo_path = Path(\"..\")\n",
    "\n",
    "sys.path.append(\"..\")\n",
    "import visualization_utils"
   ]
  },
  {
   "cell_type": "markdown",
   "metadata": {},
   "source": [
    "# Visualisation\n"
   ]
  },
  {
   "cell_type": "code",
   "execution_count": null,
   "metadata": {
    "ExecuteTime": {
     "end_time": "2021-11-25T12:13:33.846151Z",
     "start_time": "2021-11-25T12:13:33.826732Z"
    }
   },
   "outputs": [],
   "source": [
    "# set paths where to read images and masks\n",
    "# SAMPLE_IMG_PATH = repo_path / \"DATASET/test_tr_opt/sample_valid/images\"\n",
    "# SAMPLE_MASKS_PATH = repo_path / \"DATASET/test_tr_opt/sample_valid/masks\"\n",
    "# SAMPLE_IMG_PATH = repo_path / \"DATASET/test/all_images/images\"\n",
    "# SAMPLE_MASKS_PATH = repo_path / \"DATASET/test/all_masks/masks\"\n",
    "SAMPLE_IMG_PATH = Path(\n",
    "    '/home/luca/PycharmProjects/cell-segmentation/dataset/yellow/sample/images')\n",
    "SAMPLE_MASKS_PATH = Path(\n",
    "    '/home/luca/PycharmProjects/cell-segmentation/dataset/yellow/sample/masks')\n",
    "\n",
    "# MODEL\n",
    "model_name = \"c-ResUnet.h5\"\n",
    "# model_name = \"c-ResUnet_noWM.h5\"\n",
    "model_path = \"{}/model_results/{}\".format(repo_path, model_name)"
   ]
  },
  {
   "cell_type": "code",
   "execution_count": null,
   "metadata": {
    "ExecuteTime": {
     "end_time": "2021-11-25T12:13:33.870894Z",
     "start_time": "2021-11-25T12:13:33.847173Z"
    }
   },
   "outputs": [],
   "source": [
    "def mean_iou(y_true, y_pred):\n",
    "    prec = []\n",
    "    for t in np.arange(0.2, 0.8, 0.05):\n",
    "        y_pred_ = tf.to_int32(y_pred > t)\n",
    "        score, up_opt = tf.metrics.mean_iou(y_true, y_pred_, 2)\n",
    "        K.get_session().run(tf.local_variables_initializer())\n",
    "        with tf.control_dependencies([up_opt]):\n",
    "            score = tf.identity(score)\n",
    "        prec.append(score)\n",
    "    return K.mean(K.stack(prec), axis=0)\n",
    "\n",
    "# dice loss\n",
    "\n",
    "\n",
    "def dice_coef(y_true, y_pred):\n",
    "    \"\"\"Generate the 'Dice' coefficient for the provided prediction.\n",
    "    Args:\n",
    "        y_true: The expected/desired output mask.\n",
    "        y_pred: The actual/predicted mask.\n",
    "    Returns:\n",
    "        The Dice coefficient between the expected and actual outputs. Values\n",
    "        closer to 1 are considered 'better'.\n",
    "    \"\"\"\n",
    "    smooth = 1.\n",
    "    y_true_f = K.flatten(y_true)\n",
    "    y_pred_f = K.flatten(y_pred)\n",
    "    intersection = K.sum(y_true_f * y_pred_f)\n",
    "    return (2. * intersection + smooth) / (K.sum(y_true_f) + K.sum(y_pred_f) + smooth)\n",
    "\n",
    "\n",
    "def dice_coef_loss(y_true, y_pred):\n",
    "    \"\"\"Model loss function using the 'Dice' coefficient.\n",
    "    Args:\n",
    "        y_true: The expected/desired output mask.\n",
    "        y_pred: The actual/predicted mask.\n",
    "    Returns:\n",
    "        The corresponding loss, related to the dice coefficient between the expected\n",
    "        and actual outputs. Values closer to 0 are considered 'better'.\n",
    "    \"\"\"\n",
    "    return -dice_coef(y_true, y_pred)\n",
    "\n",
    "\n",
    "def create_weighted_binary_crossentropy(zero_weight, one_weight):\n",
    "\n",
    "    def weighted_binary_crossentropy(y_true, y_pred):\n",
    "\n",
    "        b_ce = K.binary_crossentropy(y_true, y_pred)\n",
    "\n",
    "        # Apply the weights\n",
    "        weight_vector = y_true * one_weight + (1. - y_true) * zero_weight\n",
    "        weighted_b_ce = weight_vector * b_ce\n",
    "\n",
    "        # Return the mean error\n",
    "        return K.mean(weighted_b_ce)\n",
    "\n",
    "    return weighted_binary_crossentropy"
   ]
  },
  {
   "cell_type": "markdown",
   "metadata": {},
   "source": [
    "## Load model"
   ]
  },
  {
   "cell_type": "code",
   "execution_count": null,
   "metadata": {
    "ExecuteTime": {
     "end_time": "2021-11-25T12:13:35.913024Z",
     "start_time": "2021-11-25T12:13:33.872131Z"
    }
   },
   "outputs": [],
   "source": [
    "WeightedLoss = create_weighted_binary_crossentropy(1, 1.5)\n",
    "\n",
    "model = load_model(model_path, custom_objects={'mean_iou': mean_iou, 'dice_coef': dice_coef,\n",
    "                                               'weighted_binary_crossentropy': WeightedLoss}, compile=False)"
   ]
  },
  {
   "cell_type": "code",
   "execution_count": null,
   "metadata": {
    "ExecuteTime": {
     "end_time": "2021-11-25T12:13:35.946290Z",
     "start_time": "2021-11-25T12:13:35.914149Z"
    },
    "scrolled": true
   },
   "outputs": [],
   "source": [
    "model.summary()"
   ]
  },
  {
   "cell_type": "markdown",
   "metadata": {},
   "source": [
    "## Check feature maps "
   ]
  },
  {
   "cell_type": "code",
   "execution_count": null,
   "metadata": {
    "ExecuteTime": {
     "end_time": "2021-11-25T12:13:36.045842Z",
     "start_time": "2021-11-25T12:13:35.948485Z"
    },
    "scrolled": true
   },
   "outputs": [],
   "source": [
    "def label_func(p):\n",
    "    return Path(str(p).replace('images', 'masks'))\n",
    "\n",
    "\n",
    "def get_input(img_path, _div=255.):\n",
    "\n",
    "    img_rgb = cv2.imread(str(img_path), cv2.IMREAD_COLOR)\n",
    "    img_rgb = cv2.cvtColor(img_rgb, cv2.COLOR_BGR2RGB)\n",
    "    mask_path = label_func(img_path)\n",
    "    mask = cv2.imread(str(mask_path), cv2.IMREAD_GRAYSCALE)\n",
    "\n",
    "    # predictions\n",
    "    img_rgb = np.expand_dims(img_rgb, 0)\n",
    "    inp = img_rgb/_div\n",
    "    return inp, mask\n",
    "\n",
    "\n",
    "def get_activations(img, model, layer):\n",
    "    feature_extractor = Model(inputs=model.inputs, outputs=layer.output)\n",
    "    activations = feature_extractor.predict(img)\n",
    "    return activations\n",
    "\n",
    "\n",
    "def plot_featuremap(img_path, layers, debug=False):\n",
    "    inp, mask = get_input(img_path)\n",
    "    # original + true objects\n",
    "    plt.imshow(np.squeeze(inp),\n",
    "               cmap=plt.cm.RdBu, aspect=\"auto\")\n",
    "    plt.contour(mask, [0.5], linewidths=1.2, colors='w')\n",
    "    plt.title(img_path.name)\n",
    "    plt.show()\n",
    "\n",
    "    fig_shape_dict = {1: (1, 1, (8, 8)),\n",
    "                      16: (4, 4, (12, 12)),\n",
    "                      32: (4, 8, (16, 16)),\n",
    "                      64: (8, 8, (20, 20)),\n",
    "                      128: (16, 8, (24, 24))\n",
    "                      }\n",
    "\n",
    "    for l in layers:\n",
    "        activations = get_activations(inp, model, l)\n",
    "\n",
    "        n_rows, n_cols, figsize = fig_shape_dict[activations.shape[3]]\n",
    "        row_spacing, col_spacing = 0.02, 0\n",
    "\n",
    "        fig = plt.figure(figsize=figsize)\n",
    "        fig.suptitle(\n",
    "            f\"{l.name}, feature size: {np.squeeze(activations[:, :, :, 0]).shape}\")\n",
    "        gs = plt.GridSpec(n_rows, n_cols,\n",
    "                          wspace=0, hspace=0,\n",
    "                          #                           top=0.95, bottom=0.05,\n",
    "                          height_ratios=[1-col_spacing*n_rows]*n_rows,\n",
    "                          left=0.01, right=0.9,\n",
    "                          width_ratios=[1-row_spacing*n_cols]*n_cols,\n",
    "                          figure=fig,\n",
    "                          )\n",
    "\n",
    "        for i in range(n_rows):\n",
    "            for j in range(n_cols):\n",
    "                ax = plt.subplot(gs[i, j])\n",
    "                feat_map = np.squeeze(activations[:, :, :, n_cols * i + j])\n",
    "                if debug: \n",
    "                    print('Layer name:', l.name, 'feature n.', n_cols * i + j)\n",
    "                    print(feat_map)\n",
    "                im = ax.imshow(feat_map, cmap='jet')\n",
    "                ax.axis('off')\n",
    "\n",
    "        fig.subplots_adjust(right=0.9)  # , left=0.05, top=0.95, bottom=0.05)\n",
    "        cbar_ax = fig.add_axes([0.91, 0.05, 0.03, 0.9])\n",
    "        # , ticks=[0, 0.2, 0.4, 0.6, 0.8, 0.99])\n",
    "        cbar = fig.colorbar(im, cax=cbar_ax)\n",
    "        cbar.ax.tick_params(labelsize=12)\n",
    "    # cbar.ax.set_yticklabels(['0', '0.2', '0.4', '0.6', '0.8', '1'])\n",
    "    plt.show()"
   ]
  },
  {
   "cell_type": "code",
   "execution_count": null,
   "metadata": {
    "ExecuteTime": {
     "end_time": "2021-11-25T12:13:39.610526Z",
     "start_time": "2021-11-25T12:13:36.046994Z"
    }
   },
   "outputs": [],
   "source": [
    "p = [*Path(SAMPLE_IMG_PATH).iterdir()][0]\n",
    "\n",
    "\n",
    "LAYERS = model.layers[5:6]\n",
    "for layer in LAYERS:\n",
    "    if 'input' in layer.name:\n",
    "        continue\n",
    "    print(layer.name)\n",
    "    plot_featuremap(p, [layer])"
   ]
  }
 ],
 "metadata": {
  "kernelspec": {
   "display_name": "Python 3",
   "language": "python",
   "name": "python3"
  },
  "language_info": {
   "codemirror_mode": {
    "name": "ipython",
    "version": 3
   },
   "file_extension": ".py",
   "mimetype": "text/x-python",
   "name": "python",
   "nbconvert_exporter": "python",
   "pygments_lexer": "ipython3",
   "version": "3.6.12"
  },
  "toc": {
   "base_numbering": 1,
   "nav_menu": {},
   "number_sections": true,
   "sideBar": false,
   "skip_h1_title": false,
   "title_cell": "Table of Contents",
   "title_sidebar": "Contents",
   "toc_cell": false,
   "toc_position": {
    "height": "726.733px",
    "left": "24px",
    "top": "111.033px",
    "width": "165px"
   },
   "toc_section_display": true,
   "toc_window_display": true
  }
 },
 "nbformat": 4,
 "nbformat_minor": 4
}
