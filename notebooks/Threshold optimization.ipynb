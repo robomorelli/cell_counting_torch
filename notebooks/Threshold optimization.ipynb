{
 "cells": [
  {
   "cell_type": "markdown",
   "metadata": {},
   "source": [
    "# Introduction\n",
    "State notebook purpose here"
   ]
  },
  {
   "cell_type": "markdown",
   "metadata": {},
   "source": [
    "### Imports\n",
    "Import libraries and write settings here."
   ]
  },
  {
   "cell_type": "code",
   "execution_count": 14,
   "metadata": {
    "ExecuteTime": {
     "end_time": "2021-01-03T11:52:20.920736Z",
     "start_time": "2021-01-03T11:52:20.904280Z"
    }
   },
   "outputs": [],
   "source": [
    "# Data manipulation\n",
    "from pathlib import Path\n",
    "from skimage.feature import peak_local_max\n",
    "from skimage.morphology import remove_small_holes, remove_small_objects, label\n",
    "from skimage.segmentation import watershed\n",
    "from skimage.filters import sobel\n",
    "from scipy import ndimage\n",
    "from math import hypot\n",
    "import pandas as pd\n",
    "import numpy as np\n",
    "\n",
    "from tqdm import tqdm\n",
    "import cv2\n",
    "\n",
    "import matplotlib\n",
    "# matplotlib.use('Agg')\n",
    "from matplotlib import pyplot as plt\n",
    "\n",
    "# Options for pandas\n",
    "pd.options.display.max_columns = 50\n",
    "pd.options.display.max_rows = 30\n",
    "pd.options.display.float_format = '{:,.4f}'.format\n",
    "\n",
    "# TensorFlow\n",
    "from keras.models import load_model, Model, Sequential\n",
    "from keras import backend as K\n",
    "import tensorflow as tf"
   ]
  },
  {
   "cell_type": "markdown",
   "metadata": {},
   "source": [
    "# Utils\n",
    "Do work here"
   ]
  },
  {
   "cell_type": "markdown",
   "metadata": {},
   "source": [
    "## Set paths"
   ]
  },
  {
   "cell_type": "code",
   "execution_count": 2,
   "metadata": {
    "ExecuteTime": {
     "end_time": "2021-01-03T11:43:34.669245Z",
     "start_time": "2021-01-03T11:43:34.664542Z"
    }
   },
   "outputs": [],
   "source": [
    "mode = 'test_code'\n",
    "\n",
    "# setup paths --> NOTE: CURRENT PATHS ARE TO BE UPDATED\n",
    "\n",
    "### INPUT IMAGES\n",
    "repo_path = Path(\"/home/luca/PycharmProjects/cell_counting_yellow\")\n",
    "if mode == \"eval\":\n",
    "    IMG_PATH = repo_path / \"DATASET/train_val/full_size/images\"\n",
    "    MASKS_PATH = repo_path / \"DATASET/train_val/full_size/masks\"\n",
    "elif mode == \"test\":\n",
    "    IMG_PATH = repo_path / \"DATASET/test/all_images/images\"\n",
    "    MASKS_PATH = repo_path / \"DATASET/test/all_masks/masks\"\n",
    "else:\n",
    "    IMG_PATH = repo_path / \"DATASET/test_tr_opt/sample_valid/images\"\n",
    "    MASKS_PATH = repo_path / \"DATASET/test_tr_opt/sample_valid/masks\"\n",
    "    \n",
    "### MODEL\n",
    "model_name = \"Unet.h5\"\n",
    "model_path = \"{}/model_results/{}\".format(repo_path, model_name)\n",
    "\n",
    "### OUTPUT PATH\n",
    "save_path = repo_path / \"results\"\n",
    "save_path.mkdir(parents=True, exist_ok=True)\n",
    "save_path.chmod(16886) # chmod 776\n",
    "\n",
    "outname = save_path / 'metrics.csv'"
   ]
  },
  {
   "cell_type": "code",
   "execution_count": 3,
   "metadata": {
    "ExecuteTime": {
     "end_time": "2021-01-03T11:43:34.689922Z",
     "start_time": "2021-01-03T11:43:34.670791Z"
    }
   },
   "outputs": [],
   "source": [
    "def mean_iou(y_true, y_pred):\n",
    "    prec = []\n",
    "    t = 0.95\n",
    "    y_pred_ = tf.to_int32(y_pred > t)\n",
    "    score, up_opt = tf.metrics.mean_iou(y_true, y_pred_, 2)\n",
    "    K.get_session().run(tf.local_variables_initializer())\n",
    "    with tf.control_dependencies([up_opt]):\n",
    "        score = tf.identity(score)\n",
    "    prec.append(score)\n",
    "    return K.mean(K.stack(prec), axis=0)\n",
    "\n",
    "smooth = 1.\n",
    "\n",
    "def dice_coef(y_true, y_pred):\n",
    "    y_true_f = K.flatten(y_true)\n",
    "    y_pred_f = K.flatten(y_pred)\n",
    "    intersection = K.sum(y_true_f * y_pred_f)\n",
    "    return (2. * intersection + smooth) / (K.sum(y_true_f) + K.sum(y_pred_f) + smooth)\n",
    "\n",
    "def create_weighted_binary_crossentropy(zero_weight, one_weight):\n",
    "\n",
    "    def weighted_binary_crossentropy(y_true, y_pred):\n",
    "\n",
    "        b_ce = K.binary_crossentropy(y_true, y_pred)\n",
    "\n",
    "        # Apply the weights\n",
    "        weight_vector = y_true * one_weight + (1. - y_true) * zero_weight\n",
    "        weighted_b_ce = weight_vector * b_ce\n",
    "\n",
    "        # Return the mean error\n",
    "        return K.mean(weighted_b_ce)\n",
    "\n",
    "    return weighted_binary_crossentropy"
   ]
  },
  {
   "cell_type": "code",
   "execution_count": 4,
   "metadata": {
    "ExecuteTime": {
     "end_time": "2021-01-03T11:43:34.704979Z",
     "start_time": "2021-01-03T11:43:34.691509Z"
    }
   },
   "outputs": [],
   "source": [
    "def mask_post_processing(thresh_image, area_threshold=600, min_obj_size=200, max_dist=30, foot=40):\n",
    "\n",
    "    # Find object in predicted image\n",
    "    labels_pred, nlabels_pred = ndimage.label(thresh_image)\n",
    "    processed = remove_small_holes(labels_pred, area_threshold=area_threshold, connectivity=1,\n",
    "                                   in_place=False)\n",
    "    processed = remove_small_objects(\n",
    "        processed, min_size=min_obj_size, connectivity=1, in_place=False)\n",
    "    labels_bool = processed.astype(bool)\n",
    "\n",
    "    distance = ndimage.distance_transform_edt(processed)\n",
    "\n",
    "    maxi = ndimage.maximum_filter(distance, size=max_dist, mode='constant')\n",
    "    local_maxi = peak_local_max(maxi, indices=False, footprint=np.ones((foot, foot)),\n",
    "                                exclude_border=False,\n",
    "                                labels=labels_bool)\n",
    "\n",
    "    local_maxi = remove_small_objects(\n",
    "        local_maxi, min_size=25, connectivity=1, in_place=False)\n",
    "    markers = ndimage.label(local_maxi)[0]\n",
    "    labels = watershed(-distance, markers, mask=labels_bool,\n",
    "                       compactness=1, watershed_line=True)\n",
    "\n",
    "    return(labels.astype(\"uint8\")*255)\n",
    "\n",
    "\n",
    "def predict_mask_from_img(img_path, threshold, model, colorspace=\"rgb\"):\n",
    "\n",
    "    # read input image\n",
    "    img = cv2.imread(str(img_path), cv2.IMREAD_COLOR)\n",
    "    img = cv2.cvtColor(img, cv2.COLOR_BGR2RGB)\n",
    "    img = np.expand_dims(img, 0)\n",
    "\n",
    "    # compute prediction\n",
    "    predicted_map = model.predict(img/255.)\n",
    "\n",
    "    # threshold the predicted heatmap\n",
    "    thresh_image = np.squeeze((predicted_map > threshold).astype('uint8'))\n",
    "    thresh_image = mask_post_processing(thresh_image)\n",
    "\n",
    "    return(thresh_image)\n",
    "\n",
    "\n",
    "def compute_metrics(pred_mask_binary, mask, metrics, img_name):\n",
    "    # extract predicted objects and counts\n",
    "    pred_label, pred_count = ndimage.label(pred_mask_binary)\n",
    "    pred_objs = ndimage.find_objects(pred_label)\n",
    "\n",
    "    # compute centers of predicted objects\n",
    "    pred_centers = []\n",
    "    for ob in pred_objs:\n",
    "        pred_centers.append(((int((ob[0].stop - ob[0].start)/2)+ob[0].start),\n",
    "                             (int((ob[1].stop - ob[1].start)/2)+ob[1].start)))\n",
    "\n",
    "    # extract target objects and counts\n",
    "    targ_label, targ_count = ndimage.label(mask)\n",
    "    targ_objs = ndimage.find_objects(targ_label)\n",
    "\n",
    "    # compute centers of target objects\n",
    "    targ_center = []\n",
    "    for ob in targ_objs:\n",
    "        targ_center.append(((int((ob[0].stop - ob[0].start)/2)+ob[0].start),\n",
    "                            (int((ob[1].stop - ob[1].start)/2)+ob[1].start)))\n",
    "\n",
    "    # associate matching objects, true positives\n",
    "    tp = 0\n",
    "    fp = 0\n",
    "    for pred_idx, pred_obj in enumerate(pred_objs):\n",
    "\n",
    "        min_dist = 50  # 1.5-cells distance is the maximum accepted\n",
    "        TP_flag = 0\n",
    "\n",
    "        for targ_idx, targ_obj in enumerate(targ_objs):\n",
    "\n",
    "            dist = hypot(pred_centers[pred_idx][0]-targ_center[targ_idx][0],\n",
    "                         pred_centers[pred_idx][1]-targ_center[targ_idx][1])\n",
    "\n",
    "            if dist < min_dist:\n",
    "\n",
    "                TP_flag = 1\n",
    "                min_dist = dist\n",
    "                index = targ_idx\n",
    "\n",
    "        if TP_flag == 1:\n",
    "            tp += 1\n",
    "            TP_flag = 0\n",
    "\n",
    "            targ_center.pop(index)\n",
    "            targ_objs.pop(index)\n",
    "\n",
    "    # derive false negatives and false positives\n",
    "    fn = targ_count - tp\n",
    "    fp = pred_count - tp\n",
    "\n",
    "    # update metrics dataframe\n",
    "    metrics.loc[img_name] = [tp, fp, fn, targ_count, pred_count]\n",
    "\n",
    "    return(metrics)\n",
    "\n",
    "\n",
    "def F1Score(metrics):\n",
    "    # compute performance measure for the current quantile filter\n",
    "    tot_tp_test = metrics[\"TP\"].sum()\n",
    "    tot_fp_test = metrics[\"FP\"].sum()\n",
    "    tot_fn_test = metrics[\"FN\"].sum()\n",
    "    tot_abs_diff = abs(metrics[\"Target_count\"] - metrics[\"Predicted_count\"])\n",
    "    tot_perc_diff = (metrics[\"Predicted_count\"] -\n",
    "                     metrics[\"Target_count\"])/(metrics[\"Target_count\"]+10**(-6))\n",
    "    accuracy = (tot_tp_test + 0.001)/(tot_tp_test +\n",
    "                                      tot_fp_test + tot_fn_test + 0.001)\n",
    "    precision = (tot_tp_test + 0.001)/(tot_tp_test + tot_fp_test + 0.001)\n",
    "    recall = (tot_tp_test + 0.001)/(tot_tp_test + tot_fn_test + 0.001)\n",
    "    F1_score = 2*precision*recall/(precision + recall)\n",
    "    MAE = tot_abs_diff.mean()\n",
    "    MedAE = tot_abs_diff.median()\n",
    "    MPE = tot_perc_diff.mean()\n",
    "\n",
    "    return(F1_score, MAE, MedAE, MPE, accuracy, precision, recall)"
   ]
  },
  {
   "cell_type": "markdown",
   "metadata": {},
   "source": [
    "# Run\n",
    "Show graphs and stats here"
   ]
  },
  {
   "cell_type": "code",
   "execution_count": 5,
   "metadata": {
    "ExecuteTime": {
     "end_time": "2021-01-03T11:46:12.596619Z",
     "start_time": "2021-01-03T11:43:34.706405Z"
    }
   },
   "outputs": [
    {
     "name": "stdout",
     "output_type": "stream",
     "text": [
      "WARNING:tensorflow:From /home/luca/anaconda3/envs/cc_env/lib/python3.6/site-packages/keras/backend/tensorflow_backend.py:517: The name tf.placeholder is deprecated. Please use tf.compat.v1.placeholder instead.\n",
      "\n",
      "WARNING:tensorflow:From /home/luca/anaconda3/envs/cc_env/lib/python3.6/site-packages/keras/backend/tensorflow_backend.py:4185: The name tf.truncated_normal is deprecated. Please use tf.random.truncated_normal instead.\n",
      "\n",
      "WARNING:tensorflow:From /home/luca/anaconda3/envs/cc_env/lib/python3.6/site-packages/keras/backend/tensorflow_backend.py:245: The name tf.get_default_graph is deprecated. Please use tf.compat.v1.get_default_graph instead.\n",
      "\n",
      "WARNING:tensorflow:From /home/luca/anaconda3/envs/cc_env/lib/python3.6/site-packages/keras/backend/tensorflow_backend.py:174: The name tf.get_default_session is deprecated. Please use tf.compat.v1.get_default_session instead.\n",
      "\n",
      "WARNING:tensorflow:From /home/luca/anaconda3/envs/cc_env/lib/python3.6/site-packages/keras/backend/tensorflow_backend.py:181: The name tf.ConfigProto is deprecated. Please use tf.compat.v1.ConfigProto instead.\n",
      "\n",
      "WARNING:tensorflow:From /home/luca/anaconda3/envs/cc_env/lib/python3.6/site-packages/keras/backend/tensorflow_backend.py:1834: The name tf.nn.fused_batch_norm is deprecated. Please use tf.compat.v1.nn.fused_batch_norm instead.\n",
      "\n",
      "WARNING:tensorflow:From /home/luca/anaconda3/envs/cc_env/lib/python3.6/site-packages/keras/backend/tensorflow_backend.py:3976: The name tf.nn.max_pool is deprecated. Please use tf.nn.max_pool2d instead.\n",
      "\n"
     ]
    },
    {
     "name": "stderr",
     "output_type": "stream",
     "text": [
      "  0%|          | 0/14 [00:00<?, ?it/s]/home/luca/anaconda3/envs/cc_env/lib/python3.6/site-packages/ipykernel_launcher.py:6: UserWarning: Any labeled images will be returned as a boolean array. Did you mean to use a boolean array?\n",
      "  \n",
      "100%|██████████| 14/14 [02:35<00:00, 11.13s/it]"
     ]
    },
    {
     "name": "stdout",
     "output_type": "stream",
     "text": [
      "CPU times: user 18min 2s, sys: 2min 35s, total: 20min 37s\n",
      "Wall time: 2min 37s\n"
     ]
    },
    {
     "name": "stderr",
     "output_type": "stream",
     "text": [
      "\n"
     ]
    }
   ],
   "source": [
    "%%time\n",
    "WeightedLoss = create_weighted_binary_crossentropy(1, 1.5)\n",
    "\n",
    "model = load_model(model_path, custom_objects={'mean_iou': mean_iou, 'dice_coef': dice_coef, \n",
    "                                                    'weighted_binary_crossentropy': WeightedLoss}, compile=False)   \n",
    "\n",
    "\n",
    "# create threshold grid for optimization\n",
    "threshold_seq = np.arange(start=0.2, stop=0.9, step=0.05)\n",
    "metrics_df_validation_rgb = pd.DataFrame(None, columns=[\"F1\", \"MAE\", \"MedAE\", \"MPE\", \"accuracy\",\n",
    "                                                        \"precision\", \"recall\"])\n",
    "\n",
    "for _, threshold in tqdm(enumerate(threshold_seq), total=len(threshold_seq)):\n",
    "    # create dataframes for storing performance measures\n",
    "    validation_metrics_rgb = pd.DataFrame(\n",
    "        columns=[\"TP\", \"FP\", \"FN\", \"Target_count\", \"Predicted_count\"])\n",
    "\n",
    "    # loop on training images\n",
    "    for _, img_path in enumerate(IMG_PATH.iterdir()):\n",
    "        mask_path = MASKS_PATH / img_path.name\n",
    "\n",
    "        # compute predicted mask and read original mask\n",
    "        img = cv2.imread(str(img_path), cv2.IMREAD_COLOR)\n",
    "\n",
    "        pred_mask_rgb = predict_mask_from_img(\n",
    "            img_path, threshold, model)\n",
    "        mask = cv2.imread(str(mask_path), cv2.IMREAD_GRAYSCALE)\n",
    "        compute_metrics(pred_mask_rgb, mask,\n",
    "                        validation_metrics_rgb, img_path.name)\n",
    "    metrics_df_validation_rgb.loc[threshold] = F1Score(validation_metrics_rgb)"
   ]
  },
  {
   "cell_type": "code",
   "execution_count": 6,
   "metadata": {
    "ExecuteTime": {
     "end_time": "2021-01-03T11:46:12.628373Z",
     "start_time": "2021-01-03T11:46:12.602851Z"
    }
   },
   "outputs": [
    {
     "data": {
      "text/html": [
       "<div>\n",
       "<style scoped>\n",
       "    .dataframe tbody tr th:only-of-type {\n",
       "        vertical-align: middle;\n",
       "    }\n",
       "\n",
       "    .dataframe tbody tr th {\n",
       "        vertical-align: top;\n",
       "    }\n",
       "\n",
       "    .dataframe thead th {\n",
       "        text-align: right;\n",
       "    }\n",
       "</style>\n",
       "<table border=\"1\" class=\"dataframe\">\n",
       "  <thead>\n",
       "    <tr style=\"text-align: right;\">\n",
       "      <th></th>\n",
       "      <th>F1</th>\n",
       "      <th>MAE</th>\n",
       "      <th>MedAE</th>\n",
       "      <th>MPE</th>\n",
       "      <th>accuracy</th>\n",
       "      <th>precision</th>\n",
       "      <th>recall</th>\n",
       "    </tr>\n",
       "  </thead>\n",
       "  <tbody>\n",
       "    <tr>\n",
       "      <th>0.2000</th>\n",
       "      <td>0.7353</td>\n",
       "      <td>3.0000</td>\n",
       "      <td>1.5000</td>\n",
       "      <td>0.4944</td>\n",
       "      <td>0.5814</td>\n",
       "      <td>0.5814</td>\n",
       "      <td>1.0000</td>\n",
       "    </tr>\n",
       "    <tr>\n",
       "      <th>0.2500</th>\n",
       "      <td>0.7692</td>\n",
       "      <td>2.5000</td>\n",
       "      <td>1.0000</td>\n",
       "      <td>0.4093</td>\n",
       "      <td>0.6250</td>\n",
       "      <td>0.6250</td>\n",
       "      <td>1.0000</td>\n",
       "    </tr>\n",
       "    <tr>\n",
       "      <th>0.3000</th>\n",
       "      <td>0.7937</td>\n",
       "      <td>2.1667</td>\n",
       "      <td>0.5000</td>\n",
       "      <td>0.3481</td>\n",
       "      <td>0.6579</td>\n",
       "      <td>0.6579</td>\n",
       "      <td>1.0000</td>\n",
       "    </tr>\n",
       "    <tr>\n",
       "      <th>0.3500</th>\n",
       "      <td>0.8333</td>\n",
       "      <td>1.6667</td>\n",
       "      <td>0.5000</td>\n",
       "      <td>0.2648</td>\n",
       "      <td>0.7143</td>\n",
       "      <td>0.7143</td>\n",
       "      <td>1.0000</td>\n",
       "    </tr>\n",
       "    <tr>\n",
       "      <th>0.4000</th>\n",
       "      <td>0.8197</td>\n",
       "      <td>1.8333</td>\n",
       "      <td>0.5000</td>\n",
       "      <td>0.2926</td>\n",
       "      <td>0.6945</td>\n",
       "      <td>0.6945</td>\n",
       "      <td>1.0000</td>\n",
       "    </tr>\n",
       "    <tr>\n",
       "      <th>0.4500</th>\n",
       "      <td>0.8197</td>\n",
       "      <td>1.8333</td>\n",
       "      <td>0.5000</td>\n",
       "      <td>0.2926</td>\n",
       "      <td>0.6945</td>\n",
       "      <td>0.6945</td>\n",
       "      <td>1.0000</td>\n",
       "    </tr>\n",
       "    <tr>\n",
       "      <th>0.5000</th>\n",
       "      <td>0.8065</td>\n",
       "      <td>2.0000</td>\n",
       "      <td>0.5000</td>\n",
       "      <td>0.3204</td>\n",
       "      <td>0.6757</td>\n",
       "      <td>0.6757</td>\n",
       "      <td>1.0000</td>\n",
       "    </tr>\n",
       "    <tr>\n",
       "      <th>0.5500</th>\n",
       "      <td>0.8475</td>\n",
       "      <td>1.5000</td>\n",
       "      <td>0.5000</td>\n",
       "      <td>0.2370</td>\n",
       "      <td>0.7353</td>\n",
       "      <td>0.7353</td>\n",
       "      <td>1.0000</td>\n",
       "    </tr>\n",
       "    <tr>\n",
       "      <th>0.6000</th>\n",
       "      <td>0.8621</td>\n",
       "      <td>1.3333</td>\n",
       "      <td>0.5000</td>\n",
       "      <td>0.2185</td>\n",
       "      <td>0.7576</td>\n",
       "      <td>0.7576</td>\n",
       "      <td>1.0000</td>\n",
       "    </tr>\n",
       "    <tr>\n",
       "      <th>0.6500</th>\n",
       "      <td>0.8929</td>\n",
       "      <td>1.0000</td>\n",
       "      <td>0.5000</td>\n",
       "      <td>0.1630</td>\n",
       "      <td>0.8065</td>\n",
       "      <td>0.8065</td>\n",
       "      <td>1.0000</td>\n",
       "    </tr>\n",
       "    <tr>\n",
       "      <th>0.7000</th>\n",
       "      <td>0.9091</td>\n",
       "      <td>0.8333</td>\n",
       "      <td>0.0000</td>\n",
       "      <td>0.1444</td>\n",
       "      <td>0.8333</td>\n",
       "      <td>0.8333</td>\n",
       "      <td>1.0000</td>\n",
       "    </tr>\n",
       "    <tr>\n",
       "      <th>0.7500</th>\n",
       "      <td>0.9057</td>\n",
       "      <td>0.8333</td>\n",
       "      <td>0.5000</td>\n",
       "      <td>0.0981</td>\n",
       "      <td>0.8276</td>\n",
       "      <td>0.8571</td>\n",
       "      <td>0.9600</td>\n",
       "    </tr>\n",
       "    <tr>\n",
       "      <th>0.8000</th>\n",
       "      <td>0.9231</td>\n",
       "      <td>0.6667</td>\n",
       "      <td>0.5000</td>\n",
       "      <td>0.0704</td>\n",
       "      <td>0.8571</td>\n",
       "      <td>0.8889</td>\n",
       "      <td>0.9600</td>\n",
       "    </tr>\n",
       "    <tr>\n",
       "      <th>0.8500</th>\n",
       "      <td>0.9057</td>\n",
       "      <td>0.5000</td>\n",
       "      <td>0.0000</td>\n",
       "      <td>0.0889</td>\n",
       "      <td>0.8276</td>\n",
       "      <td>0.8571</td>\n",
       "      <td>0.9600</td>\n",
       "    </tr>\n",
       "  </tbody>\n",
       "</table>\n",
       "</div>"
      ],
      "text/plain": [
       "           F1    MAE  MedAE    MPE  accuracy  precision  recall\n",
       "0.2000 0.7353 3.0000 1.5000 0.4944    0.5814     0.5814  1.0000\n",
       "0.2500 0.7692 2.5000 1.0000 0.4093    0.6250     0.6250  1.0000\n",
       "0.3000 0.7937 2.1667 0.5000 0.3481    0.6579     0.6579  1.0000\n",
       "0.3500 0.8333 1.6667 0.5000 0.2648    0.7143     0.7143  1.0000\n",
       "0.4000 0.8197 1.8333 0.5000 0.2926    0.6945     0.6945  1.0000\n",
       "0.4500 0.8197 1.8333 0.5000 0.2926    0.6945     0.6945  1.0000\n",
       "0.5000 0.8065 2.0000 0.5000 0.3204    0.6757     0.6757  1.0000\n",
       "0.5500 0.8475 1.5000 0.5000 0.2370    0.7353     0.7353  1.0000\n",
       "0.6000 0.8621 1.3333 0.5000 0.2185    0.7576     0.7576  1.0000\n",
       "0.6500 0.8929 1.0000 0.5000 0.1630    0.8065     0.8065  1.0000\n",
       "0.7000 0.9091 0.8333 0.0000 0.1444    0.8333     0.8333  1.0000\n",
       "0.7500 0.9057 0.8333 0.5000 0.0981    0.8276     0.8571  0.9600\n",
       "0.8000 0.9231 0.6667 0.5000 0.0704    0.8571     0.8889  0.9600\n",
       "0.8500 0.9057 0.5000 0.0000 0.0889    0.8276     0.8571  0.9600"
      ]
     },
     "execution_count": 6,
     "metadata": {},
     "output_type": "execute_result"
    }
   ],
   "source": [
    "metrics_df_validation_rgb"
   ]
  },
  {
   "cell_type": "code",
   "execution_count": 7,
   "metadata": {
    "ExecuteTime": {
     "end_time": "2021-01-03T11:46:12.678999Z",
     "start_time": "2021-01-03T11:46:12.629750Z"
    }
   },
   "outputs": [],
   "source": [
    "metrics_df_validation_rgb.to_csv(outname, index = True, index_label='Threshold')"
   ]
  },
  {
   "cell_type": "code",
   "execution_count": 8,
   "metadata": {
    "ExecuteTime": {
     "end_time": "2021-01-03T11:46:12.692986Z",
     "start_time": "2021-01-03T11:46:12.685957Z"
    }
   },
   "outputs": [],
   "source": [
    "# df = pd.read_csv(outname)"
   ]
  },
  {
   "cell_type": "code",
   "execution_count": 9,
   "metadata": {
    "ExecuteTime": {
     "end_time": "2021-01-03T11:46:12.707513Z",
     "start_time": "2021-01-03T11:46:12.696176Z"
    }
   },
   "outputs": [],
   "source": [
    "# df.head()"
   ]
  },
  {
   "cell_type": "code",
   "execution_count": 10,
   "metadata": {
    "ExecuteTime": {
     "end_time": "2021-01-03T11:46:12.722542Z",
     "start_time": "2021-01-03T11:46:12.710682Z"
    }
   },
   "outputs": [],
   "source": [
    "def plot_thresh_opt(df, save_path=None):\n",
    "    line = df.plot(y=\"F1\", linewidth=2, markersize=6, legend=False)\n",
    "#     line = plt.plot(df.F1, linewidth=2, markersize=6)\n",
    "    line = plt.title('$F_1$ score: threshold optimization', size =18, weight='bold')\n",
    "    line = plt.ylabel('$F_1$ score', size=15)\n",
    "    line = plt.xlabel('Threshold', size=15 )\n",
    "    line = plt.axvline(df.F1.idxmax(), color='firebrick', linestyle='--')\n",
    "    if save_path:\n",
    "        outname = save_path / 'f1_score_thresh_opt.png'\n",
    "        _ = plt.savefig(outname, dpi = 900, bbox_inches='tight' )\n",
    "    return line"
   ]
  },
  {
   "cell_type": "code",
   "execution_count": 15,
   "metadata": {
    "ExecuteTime": {
     "end_time": "2021-01-03T11:52:27.909183Z",
     "start_time": "2021-01-03T11:52:26.384378Z"
    }
   },
   "outputs": [
    {
     "data": {
      "image/png": "[encoded data removed]",
      "text/plain": [
       "<Figure size 432x288 with 1 Axes>"
      ]
     },
     "metadata": {
      "needs_background": "light"
     },
     "output_type": "display_data"
    }
   ],
   "source": [
    "_ = plot_thresh_opt(metrics_df_validation_rgb, save_path)"
   ]
  }
 ],
 "metadata": {
  "kernelspec": {
   "display_name": "Python 3",
   "language": "python",
   "name": "python3"
  },
  "language_info": {
   "codemirror_mode": {
    "name": "ipython",
    "version": 3
   },
   "file_extension": ".py",
   "mimetype": "text/x-python",
   "name": "python",
   "nbconvert_exporter": "python",
   "pygments_lexer": "ipython3",
   "version": "3.6.12"
  },
  "toc": {
   "base_numbering": 1,
   "nav_menu": {},
   "number_sections": true,
   "sideBar": true,
   "skip_h1_title": false,
   "title_cell": "Table of Contents",
   "title_sidebar": "Contents",
   "toc_cell": false,
   "toc_position": {},
   "toc_section_display": true,
   "toc_window_display": false
  }
 },
 "nbformat": 4,
 "nbformat_minor": 4
}
